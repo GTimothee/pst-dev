{
 "cells": [
  {
   "cell_type": "code",
   "execution_count": 10,
   "metadata": {
    "collapsed": true
   },
   "outputs": [],
   "source": [
    "import mesh_tools as mt\n",
    "import volume_tools as vt"
   ]
  },
  {
   "cell_type": "code",
   "execution_count": 2,
   "metadata": {
    "collapsed": true
   },
   "outputs": [],
   "source": [
    "#import bigbrain surfaces\n",
    "#surfaces have vertex coordinates bb_white['coords'], and ['faces'] the indices of triangles\n",
    "bb_white=mt.load_mesh_geometry('CIVET_MNI/white_left_327680.obj')"
   ]
  },
  {
   "cell_type": "code",
   "execution_count": 4,
   "metadata": {
    "collapsed": false
   },
   "outputs": [],
   "source": [
    "#one useful function is to get neighbours\n",
    "neighbours=mt.get_neighbours_from_tris(bb_white['faces'])\n",
    "#to save a surface object pass a file name and a surface object\n",
    "mt.save_mesh_data(fname='example.obj',surf_data=bb_white)"
   ]
  },
  {
   "cell_type": "code",
   "execution_count": 5,
   "metadata": {
    "collapsed": true
   },
   "outputs": [],
   "source": [
    "#the same functions work with the freesurfer data\n",
    "fs_white=mt.load_mesh_geometry('Freesurfer_Nii/fsaverage_sym/surf/lh.white')\n"
   ]
  },
  {
   "cell_type": "code",
   "execution_count": 6,
   "metadata": {
    "collapsed": true
   },
   "outputs": [],
   "source": [
    "#load in label file\n",
    "v1_bb=mt.load_mesh_data('CIVET_MNI/V1label.txt')\n",
    "#CIVET labels are integers at the vertices of interest"
   ]
  },
  {
   "cell_type": "code",
   "execution_count": 8,
   "metadata": {
    "collapsed": false
   },
   "outputs": [],
   "source": [
    "#freesurfer label\n",
    "fs_label=mt.load_mesh_data('Freesurfer_Nii/fsaverage_sym/label/lh.cortex.label')\n",
    "# freesurfer labels are a list of the indices of vertices of interest."
   ]
  },
  {
   "cell_type": "code",
   "execution_count": 13,
   "metadata": {
    "collapsed": false
   },
   "outputs": [],
   "source": [
    "#currently the load_volume doesn't work very well for minc.\n",
    "#nibabel in theory can import mincs, but can't save them.\n",
    "#I've never managed to get pyezminc to work well \n",
    "#civet_volume=vt.load_volume('CIVET_MNI/full8_1000um.mnc')"
   ]
  },
  {
   "cell_type": "code",
   "execution_count": 12,
   "metadata": {
    "collapsed": true
   },
   "outputs": [],
   "source": [
    "#loading freesurfer volume works fine.\n",
    "freesurfer_volumes=vt.load_volume('Freesurfer_Nii/fsaverage_sym/mri/T1.nii.gz')"
   ]
  }
 ],
 "metadata": {
  "kernelspec": {
   "display_name": "Python 2",
   "language": "python",
   "name": "python2"
  },
  "language_info": {
   "codemirror_mode": {
    "name": "ipython",
    "version": 2
   },
   "file_extension": ".py",
   "mimetype": "text/x-python",
   "name": "python",
   "nbconvert_exporter": "python",
   "pygments_lexer": "ipython2",
   "version": "2.7.13"
  }
 },
 "nbformat": 4,
 "nbformat_minor": 2
}
